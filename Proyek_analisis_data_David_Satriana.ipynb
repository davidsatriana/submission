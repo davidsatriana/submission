{
  "nbformat": 4,
  "nbformat_minor": 0,
  "metadata": {
    "colab": {
      "provenance": []
    },
    "kernelspec": {
      "name": "python3",
      "display_name": "Python 3"
    },
    "language_info": {
      "name": "python"
    }
  },
  "cells": [
    {
      "cell_type": "markdown",
      "source": [
        "**Proyek Analisis Data**\n",
        "\n",
        "* nama : David Satriana Putra\n",
        "* email : m232d4ky1855@bangkit.academy\n",
        "* id dicoding : davidsatriana\n"
      ],
      "metadata": {
        "id": "v0-XRe2ymLQn"
      }
    },
    {
      "cell_type": "markdown",
      "source": [
        "**Menentukan Pertanyaan Bisnis**"
      ],
      "metadata": {
        "id": "PGnZyhxcnhr5"
      }
    },
    {
      "cell_type": "markdown",
      "source": [
        "* Pertanyaan 1 : Apa tingkat polutan udara yang paling umum di Nongzhanguan?\n",
        "\n",
        "* Pertanyaan 2 : Bagaimana kualitas udara dalam periode tahunan?"
      ],
      "metadata": {
        "id": "nz3Xuf9mocGB"
      }
    },
    {
      "cell_type": "markdown",
      "source": [],
      "metadata": {
        "id": "tsXUuN3dt9IF"
      }
    },
    {
      "cell_type": "markdown",
      "source": [
        "**Import Semua Packages/Library Yang Digunakan**"
      ],
      "metadata": {
        "id": "mYpbMivCpvey"
      }
    },
    {
      "cell_type": "code",
      "source": [
        "import pandas as pd\n",
        "import matplotlib.pyplot as plt"
      ],
      "metadata": {
        "id": "7KyvxkrBqCOu"
      },
      "execution_count": 10,
      "outputs": []
    },
    {
      "cell_type": "markdown",
      "source": [
        "**Data Wrangling**"
      ],
      "metadata": {
        "id": "jb1BUvTTqOOt"
      }
    },
    {
      "cell_type": "markdown",
      "source": [
        "Gathering Data"
      ],
      "metadata": {
        "id": "y2_5qE01qQHO"
      }
    },
    {
      "cell_type": "code",
      "source": [
        "# Load the dataset\n",
        "df = pd.read_csv(\"https://raw.githubusercontent.com/marceloreis/HTI/master/PRSA_Data_20130301-20170228/PRSA_Data_Nongzhanguan_20130301-20170228.csv\")\n",
        "\n",
        "# Display the first few rows to understand the data\n",
        "df.head()"
      ],
      "metadata": {
        "colab": {
          "base_uri": "https://localhost:8080/",
          "height": 206
        },
        "id": "E8mhtUOSqYJ4",
        "outputId": "4e660656-43db-46c6-f06a-480083f9bd2c"
      },
      "execution_count": 11,
      "outputs": [
        {
          "output_type": "execute_result",
          "data": {
            "text/plain": [
              "   No  year  month  day  hour  PM2.5  PM10  SO2   NO2     CO    O3  TEMP  \\\n",
              "0   1  2013      3    1     0    5.0  14.0  4.0  12.0  200.0  85.0  -0.5   \n",
              "1   2  2013      3    1     1    8.0  12.0  6.0  14.0  200.0  84.0  -0.7   \n",
              "2   3  2013      3    1     2    3.0   6.0  5.0  14.0  200.0  83.0  -1.2   \n",
              "3   4  2013      3    1     3    5.0   5.0  5.0  14.0  200.0  84.0  -1.4   \n",
              "4   5  2013      3    1     4    5.0   5.0  6.0  21.0  200.0  77.0  -1.9   \n",
              "\n",
              "     PRES  DEWP  RAIN   wd  WSPM       station  \n",
              "0  1024.5 -21.4   0.0  NNW   5.7  Nongzhanguan  \n",
              "1  1025.1 -22.1   0.0   NW   3.9  Nongzhanguan  \n",
              "2  1025.3 -24.6   0.0  NNW   5.3  Nongzhanguan  \n",
              "3  1026.2 -25.5   0.0    N   4.9  Nongzhanguan  \n",
              "4  1027.1 -24.5   0.0  NNW   3.2  Nongzhanguan  "
            ],
            "text/html": [
              "\n",
              "  <div id=\"df-4e688b7c-2dfa-4c02-9994-890ebd0e14cd\" class=\"colab-df-container\">\n",
              "    <div>\n",
              "<style scoped>\n",
              "    .dataframe tbody tr th:only-of-type {\n",
              "        vertical-align: middle;\n",
              "    }\n",
              "\n",
              "    .dataframe tbody tr th {\n",
              "        vertical-align: top;\n",
              "    }\n",
              "\n",
              "    .dataframe thead th {\n",
              "        text-align: right;\n",
              "    }\n",
              "</style>\n",
              "<table border=\"1\" class=\"dataframe\">\n",
              "  <thead>\n",
              "    <tr style=\"text-align: right;\">\n",
              "      <th></th>\n",
              "      <th>No</th>\n",
              "      <th>year</th>\n",
              "      <th>month</th>\n",
              "      <th>day</th>\n",
              "      <th>hour</th>\n",
              "      <th>PM2.5</th>\n",
              "      <th>PM10</th>\n",
              "      <th>SO2</th>\n",
              "      <th>NO2</th>\n",
              "      <th>CO</th>\n",
              "      <th>O3</th>\n",
              "      <th>TEMP</th>\n",
              "      <th>PRES</th>\n",
              "      <th>DEWP</th>\n",
              "      <th>RAIN</th>\n",
              "      <th>wd</th>\n",
              "      <th>WSPM</th>\n",
              "      <th>station</th>\n",
              "    </tr>\n",
              "  </thead>\n",
              "  <tbody>\n",
              "    <tr>\n",
              "      <th>0</th>\n",
              "      <td>1</td>\n",
              "      <td>2013</td>\n",
              "      <td>3</td>\n",
              "      <td>1</td>\n",
              "      <td>0</td>\n",
              "      <td>5.0</td>\n",
              "      <td>14.0</td>\n",
              "      <td>4.0</td>\n",
              "      <td>12.0</td>\n",
              "      <td>200.0</td>\n",
              "      <td>85.0</td>\n",
              "      <td>-0.5</td>\n",
              "      <td>1024.5</td>\n",
              "      <td>-21.4</td>\n",
              "      <td>0.0</td>\n",
              "      <td>NNW</td>\n",
              "      <td>5.7</td>\n",
              "      <td>Nongzhanguan</td>\n",
              "    </tr>\n",
              "    <tr>\n",
              "      <th>1</th>\n",
              "      <td>2</td>\n",
              "      <td>2013</td>\n",
              "      <td>3</td>\n",
              "      <td>1</td>\n",
              "      <td>1</td>\n",
              "      <td>8.0</td>\n",
              "      <td>12.0</td>\n",
              "      <td>6.0</td>\n",
              "      <td>14.0</td>\n",
              "      <td>200.0</td>\n",
              "      <td>84.0</td>\n",
              "      <td>-0.7</td>\n",
              "      <td>1025.1</td>\n",
              "      <td>-22.1</td>\n",
              "      <td>0.0</td>\n",
              "      <td>NW</td>\n",
              "      <td>3.9</td>\n",
              "      <td>Nongzhanguan</td>\n",
              "    </tr>\n",
              "    <tr>\n",
              "      <th>2</th>\n",
              "      <td>3</td>\n",
              "      <td>2013</td>\n",
              "      <td>3</td>\n",
              "      <td>1</td>\n",
              "      <td>2</td>\n",
              "      <td>3.0</td>\n",
              "      <td>6.0</td>\n",
              "      <td>5.0</td>\n",
              "      <td>14.0</td>\n",
              "      <td>200.0</td>\n",
              "      <td>83.0</td>\n",
              "      <td>-1.2</td>\n",
              "      <td>1025.3</td>\n",
              "      <td>-24.6</td>\n",
              "      <td>0.0</td>\n",
              "      <td>NNW</td>\n",
              "      <td>5.3</td>\n",
              "      <td>Nongzhanguan</td>\n",
              "    </tr>\n",
              "    <tr>\n",
              "      <th>3</th>\n",
              "      <td>4</td>\n",
              "      <td>2013</td>\n",
              "      <td>3</td>\n",
              "      <td>1</td>\n",
              "      <td>3</td>\n",
              "      <td>5.0</td>\n",
              "      <td>5.0</td>\n",
              "      <td>5.0</td>\n",
              "      <td>14.0</td>\n",
              "      <td>200.0</td>\n",
              "      <td>84.0</td>\n",
              "      <td>-1.4</td>\n",
              "      <td>1026.2</td>\n",
              "      <td>-25.5</td>\n",
              "      <td>0.0</td>\n",
              "      <td>N</td>\n",
              "      <td>4.9</td>\n",
              "      <td>Nongzhanguan</td>\n",
              "    </tr>\n",
              "    <tr>\n",
              "      <th>4</th>\n",
              "      <td>5</td>\n",
              "      <td>2013</td>\n",
              "      <td>3</td>\n",
              "      <td>1</td>\n",
              "      <td>4</td>\n",
              "      <td>5.0</td>\n",
              "      <td>5.0</td>\n",
              "      <td>6.0</td>\n",
              "      <td>21.0</td>\n",
              "      <td>200.0</td>\n",
              "      <td>77.0</td>\n",
              "      <td>-1.9</td>\n",
              "      <td>1027.1</td>\n",
              "      <td>-24.5</td>\n",
              "      <td>0.0</td>\n",
              "      <td>NNW</td>\n",
              "      <td>3.2</td>\n",
              "      <td>Nongzhanguan</td>\n",
              "    </tr>\n",
              "  </tbody>\n",
              "</table>\n",
              "</div>\n",
              "    <div class=\"colab-df-buttons\">\n",
              "\n",
              "  <div class=\"colab-df-container\">\n",
              "    <button class=\"colab-df-convert\" onclick=\"convertToInteractive('df-4e688b7c-2dfa-4c02-9994-890ebd0e14cd')\"\n",
              "            title=\"Convert this dataframe to an interactive table.\"\n",
              "            style=\"display:none;\">\n",
              "\n",
              "  <svg xmlns=\"http://www.w3.org/2000/svg\" height=\"24px\" viewBox=\"0 -960 960 960\">\n",
              "    <path d=\"M120-120v-720h720v720H120Zm60-500h600v-160H180v160Zm220 220h160v-160H400v160Zm0 220h160v-160H400v160ZM180-400h160v-160H180v160Zm440 0h160v-160H620v160ZM180-180h160v-160H180v160Zm440 0h160v-160H620v160Z\"/>\n",
              "  </svg>\n",
              "    </button>\n",
              "\n",
              "  <style>\n",
              "    .colab-df-container {\n",
              "      display:flex;\n",
              "      gap: 12px;\n",
              "    }\n",
              "\n",
              "    .colab-df-convert {\n",
              "      background-color: #E8F0FE;\n",
              "      border: none;\n",
              "      border-radius: 50%;\n",
              "      cursor: pointer;\n",
              "      display: none;\n",
              "      fill: #1967D2;\n",
              "      height: 32px;\n",
              "      padding: 0 0 0 0;\n",
              "      width: 32px;\n",
              "    }\n",
              "\n",
              "    .colab-df-convert:hover {\n",
              "      background-color: #E2EBFA;\n",
              "      box-shadow: 0px 1px 2px rgba(60, 64, 67, 0.3), 0px 1px 3px 1px rgba(60, 64, 67, 0.15);\n",
              "      fill: #174EA6;\n",
              "    }\n",
              "\n",
              "    .colab-df-buttons div {\n",
              "      margin-bottom: 4px;\n",
              "    }\n",
              "\n",
              "    [theme=dark] .colab-df-convert {\n",
              "      background-color: #3B4455;\n",
              "      fill: #D2E3FC;\n",
              "    }\n",
              "\n",
              "    [theme=dark] .colab-df-convert:hover {\n",
              "      background-color: #434B5C;\n",
              "      box-shadow: 0px 1px 3px 1px rgba(0, 0, 0, 0.15);\n",
              "      filter: drop-shadow(0px 1px 2px rgba(0, 0, 0, 0.3));\n",
              "      fill: #FFFFFF;\n",
              "    }\n",
              "  </style>\n",
              "\n",
              "    <script>\n",
              "      const buttonEl =\n",
              "        document.querySelector('#df-4e688b7c-2dfa-4c02-9994-890ebd0e14cd button.colab-df-convert');\n",
              "      buttonEl.style.display =\n",
              "        google.colab.kernel.accessAllowed ? 'block' : 'none';\n",
              "\n",
              "      async function convertToInteractive(key) {\n",
              "        const element = document.querySelector('#df-4e688b7c-2dfa-4c02-9994-890ebd0e14cd');\n",
              "        const dataTable =\n",
              "          await google.colab.kernel.invokeFunction('convertToInteractive',\n",
              "                                                    [key], {});\n",
              "        if (!dataTable) return;\n",
              "\n",
              "        const docLinkHtml = 'Like what you see? Visit the ' +\n",
              "          '<a target=\"_blank\" href=https://colab.research.google.com/notebooks/data_table.ipynb>data table notebook</a>'\n",
              "          + ' to learn more about interactive tables.';\n",
              "        element.innerHTML = '';\n",
              "        dataTable['output_type'] = 'display_data';\n",
              "        await google.colab.output.renderOutput(dataTable, element);\n",
              "        const docLink = document.createElement('div');\n",
              "        docLink.innerHTML = docLinkHtml;\n",
              "        element.appendChild(docLink);\n",
              "      }\n",
              "    </script>\n",
              "  </div>\n",
              "\n",
              "\n",
              "<div id=\"df-f61859cd-8133-4206-ae5a-a0885ce4b317\">\n",
              "  <button class=\"colab-df-quickchart\" onclick=\"quickchart('df-f61859cd-8133-4206-ae5a-a0885ce4b317')\"\n",
              "            title=\"Suggest charts\"\n",
              "            style=\"display:none;\">\n",
              "\n",
              "<svg xmlns=\"http://www.w3.org/2000/svg\" height=\"24px\"viewBox=\"0 0 24 24\"\n",
              "     width=\"24px\">\n",
              "    <g>\n",
              "        <path d=\"M19 3H5c-1.1 0-2 .9-2 2v14c0 1.1.9 2 2 2h14c1.1 0 2-.9 2-2V5c0-1.1-.9-2-2-2zM9 17H7v-7h2v7zm4 0h-2V7h2v10zm4 0h-2v-4h2v4z\"/>\n",
              "    </g>\n",
              "</svg>\n",
              "  </button>\n",
              "\n",
              "<style>\n",
              "  .colab-df-quickchart {\n",
              "      --bg-color: #E8F0FE;\n",
              "      --fill-color: #1967D2;\n",
              "      --hover-bg-color: #E2EBFA;\n",
              "      --hover-fill-color: #174EA6;\n",
              "      --disabled-fill-color: #AAA;\n",
              "      --disabled-bg-color: #DDD;\n",
              "  }\n",
              "\n",
              "  [theme=dark] .colab-df-quickchart {\n",
              "      --bg-color: #3B4455;\n",
              "      --fill-color: #D2E3FC;\n",
              "      --hover-bg-color: #434B5C;\n",
              "      --hover-fill-color: #FFFFFF;\n",
              "      --disabled-bg-color: #3B4455;\n",
              "      --disabled-fill-color: #666;\n",
              "  }\n",
              "\n",
              "  .colab-df-quickchart {\n",
              "    background-color: var(--bg-color);\n",
              "    border: none;\n",
              "    border-radius: 50%;\n",
              "    cursor: pointer;\n",
              "    display: none;\n",
              "    fill: var(--fill-color);\n",
              "    height: 32px;\n",
              "    padding: 0;\n",
              "    width: 32px;\n",
              "  }\n",
              "\n",
              "  .colab-df-quickchart:hover {\n",
              "    background-color: var(--hover-bg-color);\n",
              "    box-shadow: 0 1px 2px rgba(60, 64, 67, 0.3), 0 1px 3px 1px rgba(60, 64, 67, 0.15);\n",
              "    fill: var(--button-hover-fill-color);\n",
              "  }\n",
              "\n",
              "  .colab-df-quickchart-complete:disabled,\n",
              "  .colab-df-quickchart-complete:disabled:hover {\n",
              "    background-color: var(--disabled-bg-color);\n",
              "    fill: var(--disabled-fill-color);\n",
              "    box-shadow: none;\n",
              "  }\n",
              "\n",
              "  .colab-df-spinner {\n",
              "    border: 2px solid var(--fill-color);\n",
              "    border-color: transparent;\n",
              "    border-bottom-color: var(--fill-color);\n",
              "    animation:\n",
              "      spin 1s steps(1) infinite;\n",
              "  }\n",
              "\n",
              "  @keyframes spin {\n",
              "    0% {\n",
              "      border-color: transparent;\n",
              "      border-bottom-color: var(--fill-color);\n",
              "      border-left-color: var(--fill-color);\n",
              "    }\n",
              "    20% {\n",
              "      border-color: transparent;\n",
              "      border-left-color: var(--fill-color);\n",
              "      border-top-color: var(--fill-color);\n",
              "    }\n",
              "    30% {\n",
              "      border-color: transparent;\n",
              "      border-left-color: var(--fill-color);\n",
              "      border-top-color: var(--fill-color);\n",
              "      border-right-color: var(--fill-color);\n",
              "    }\n",
              "    40% {\n",
              "      border-color: transparent;\n",
              "      border-right-color: var(--fill-color);\n",
              "      border-top-color: var(--fill-color);\n",
              "    }\n",
              "    60% {\n",
              "      border-color: transparent;\n",
              "      border-right-color: var(--fill-color);\n",
              "    }\n",
              "    80% {\n",
              "      border-color: transparent;\n",
              "      border-right-color: var(--fill-color);\n",
              "      border-bottom-color: var(--fill-color);\n",
              "    }\n",
              "    90% {\n",
              "      border-color: transparent;\n",
              "      border-bottom-color: var(--fill-color);\n",
              "    }\n",
              "  }\n",
              "</style>\n",
              "\n",
              "  <script>\n",
              "    async function quickchart(key) {\n",
              "      const quickchartButtonEl =\n",
              "        document.querySelector('#' + key + ' button');\n",
              "      quickchartButtonEl.disabled = true;  // To prevent multiple clicks.\n",
              "      quickchartButtonEl.classList.add('colab-df-spinner');\n",
              "      try {\n",
              "        const charts = await google.colab.kernel.invokeFunction(\n",
              "            'suggestCharts', [key], {});\n",
              "      } catch (error) {\n",
              "        console.error('Error during call to suggestCharts:', error);\n",
              "      }\n",
              "      quickchartButtonEl.classList.remove('colab-df-spinner');\n",
              "      quickchartButtonEl.classList.add('colab-df-quickchart-complete');\n",
              "    }\n",
              "    (() => {\n",
              "      let quickchartButtonEl =\n",
              "        document.querySelector('#df-f61859cd-8133-4206-ae5a-a0885ce4b317 button');\n",
              "      quickchartButtonEl.style.display =\n",
              "        google.colab.kernel.accessAllowed ? 'block' : 'none';\n",
              "    })();\n",
              "  </script>\n",
              "</div>\n",
              "    </div>\n",
              "  </div>\n"
            ],
            "application/vnd.google.colaboratory.intrinsic+json": {
              "type": "dataframe",
              "variable_name": "df",
              "summary": "{\n  \"name\": \"df\",\n  \"rows\": 35064,\n  \"fields\": [\n    {\n      \"column\": \"No\",\n      \"properties\": {\n        \"dtype\": \"number\",\n        \"std\": 10122,\n        \"min\": 1,\n        \"max\": 35064,\n        \"num_unique_values\": 35064,\n        \"samples\": [\n          6071,\n          32601,\n          8847\n        ],\n        \"semantic_type\": \"\",\n        \"description\": \"\"\n      }\n    },\n    {\n      \"column\": \"year\",\n      \"properties\": {\n        \"dtype\": \"number\",\n        \"std\": 1,\n        \"min\": 2013,\n        \"max\": 2017,\n        \"num_unique_values\": 5,\n        \"samples\": [\n          2014,\n          2017,\n          2015\n        ],\n        \"semantic_type\": \"\",\n        \"description\": \"\"\n      }\n    },\n    {\n      \"column\": \"month\",\n      \"properties\": {\n        \"dtype\": \"number\",\n        \"std\": 3,\n        \"min\": 1,\n        \"max\": 12,\n        \"num_unique_values\": 12,\n        \"samples\": [\n          1,\n          12,\n          3\n        ],\n        \"semantic_type\": \"\",\n        \"description\": \"\"\n      }\n    },\n    {\n      \"column\": \"day\",\n      \"properties\": {\n        \"dtype\": \"number\",\n        \"std\": 8,\n        \"min\": 1,\n        \"max\": 31,\n        \"num_unique_values\": 31,\n        \"samples\": [\n          28,\n          16,\n          24\n        ],\n        \"semantic_type\": \"\",\n        \"description\": \"\"\n      }\n    },\n    {\n      \"column\": \"hour\",\n      \"properties\": {\n        \"dtype\": \"number\",\n        \"std\": 6,\n        \"min\": 0,\n        \"max\": 23,\n        \"num_unique_values\": 24,\n        \"samples\": [\n          8,\n          16,\n          0\n        ],\n        \"semantic_type\": \"\",\n        \"description\": \"\"\n      }\n    },\n    {\n      \"column\": \"PM2.5\",\n      \"properties\": {\n        \"dtype\": \"number\",\n        \"std\": 86.22534397739824,\n        \"min\": 2.0,\n        \"max\": 844.0,\n        \"num_unique_values\": 565,\n        \"samples\": [\n          535.0,\n          555.0,\n          117.0\n        ],\n        \"semantic_type\": \"\",\n        \"description\": \"\"\n      }\n    },\n    {\n      \"column\": \"PM10\",\n      \"properties\": {\n        \"dtype\": \"number\",\n        \"std\": 95.34117679486624,\n        \"min\": 2.0,\n        \"max\": 995.0,\n        \"num_unique_values\": 649,\n        \"samples\": [\n          675.0,\n          302.0,\n          541.0\n        ],\n        \"semantic_type\": \"\",\n        \"description\": \"\"\n      }\n    },\n    {\n      \"column\": \"SO2\",\n      \"properties\": {\n        \"dtype\": \"number\",\n        \"std\": 24.28066483064031,\n        \"min\": 0.5712,\n        \"max\": 257.0,\n        \"num_unique_values\": 263,\n        \"samples\": [\n          55.0,\n          114.0,\n          150.0\n        ],\n        \"semantic_type\": \"\",\n        \"description\": \"\"\n      }\n    },\n    {\n      \"column\": \"NO2\",\n      \"properties\": {\n        \"dtype\": \"number\",\n        \"std\": 36.29774028854907,\n        \"min\": 2.0,\n        \"max\": 273.0,\n        \"num_unique_values\": 595,\n        \"samples\": [\n          123.0,\n          51.325,\n          71.2391\n        ],\n        \"semantic_type\": \"\",\n        \"description\": \"\"\n      }\n    },\n    {\n      \"column\": \"CO\",\n      \"properties\": {\n        \"dtype\": \"number\",\n        \"std\": 1245.1661238728404,\n        \"min\": 100.0,\n        \"max\": 10000.0,\n        \"num_unique_values\": 115,\n        \"samples\": [\n          6800.0,\n          600.0,\n          5500.0\n        ],\n        \"semantic_type\": \"\",\n        \"description\": \"\"\n      }\n    },\n    {\n      \"column\": \"O3\",\n      \"properties\": {\n        \"dtype\": \"number\",\n        \"std\": 58.401448230918476,\n        \"min\": 0.2142,\n        \"max\": 390.0,\n        \"num_unique_values\": 732,\n        \"samples\": [\n          14.994,\n          8.0,\n          139.0158\n        ],\n        \"semantic_type\": \"\",\n        \"description\": \"\"\n      }\n    },\n    {\n      \"column\": \"TEMP\",\n      \"properties\": {\n        \"dtype\": \"number\",\n        \"std\": 11.458418141554947,\n        \"min\": -16.8,\n        \"max\": 41.1,\n        \"num_unique_values\": 963,\n        \"samples\": [\n          37.0,\n          35.0,\n          30.3\n        ],\n        \"semantic_type\": \"\",\n        \"description\": \"\"\n      }\n    },\n    {\n      \"column\": \"PRES\",\n      \"properties\": {\n        \"dtype\": \"number\",\n        \"std\": 10.266058841360314,\n        \"min\": 987.1,\n        \"max\": 1042.0,\n        \"num_unique_values\": 595,\n        \"samples\": [\n          1021.8,\n          1004.9,\n          987.9\n        ],\n        \"semantic_type\": \"\",\n        \"description\": \"\"\n      }\n    },\n    {\n      \"column\": \"DEWP\",\n      \"properties\": {\n        \"dtype\": \"number\",\n        \"std\": 13.810696018489304,\n        \"min\": -35.3,\n        \"max\": 28.8,\n        \"num_unique_values\": 617,\n        \"samples\": [\n          -14.7,\n          -23.6,\n          -5.0\n        ],\n        \"semantic_type\": \"\",\n        \"description\": \"\"\n      }\n    },\n    {\n      \"column\": \"RAIN\",\n      \"properties\": {\n        \"dtype\": \"number\",\n        \"std\": 0.7862819908146197,\n        \"min\": 0.0,\n        \"max\": 46.4,\n        \"num_unique_values\": 119,\n        \"samples\": [\n          4.0,\n          15.4,\n          2.6\n        ],\n        \"semantic_type\": \"\",\n        \"description\": \"\"\n      }\n    },\n    {\n      \"column\": \"wd\",\n      \"properties\": {\n        \"dtype\": \"category\",\n        \"num_unique_values\": 16,\n        \"samples\": [\n          \"NNW\",\n          \"NW\",\n          \"NE\"\n        ],\n        \"semantic_type\": \"\",\n        \"description\": \"\"\n      }\n    },\n    {\n      \"column\": \"WSPM\",\n      \"properties\": {\n        \"dtype\": \"number\",\n        \"std\": 1.2803682575483455,\n        \"min\": 0.0,\n        \"max\": 10.5,\n        \"num_unique_values\": 101,\n        \"samples\": [\n          7.9,\n          2.3,\n          4.1\n        ],\n        \"semantic_type\": \"\",\n        \"description\": \"\"\n      }\n    },\n    {\n      \"column\": \"station\",\n      \"properties\": {\n        \"dtype\": \"category\",\n        \"num_unique_values\": 1,\n        \"samples\": [\n          \"Nongzhanguan\"\n        ],\n        \"semantic_type\": \"\",\n        \"description\": \"\"\n      }\n    }\n  ]\n}"
            }
          },
          "metadata": {},
          "execution_count": 11
        }
      ]
    },
    {
      "cell_type": "code",
      "source": [
        "df.info()"
      ],
      "metadata": {
        "colab": {
          "base_uri": "https://localhost:8080/"
        },
        "id": "0N36r7-987D-",
        "outputId": "6fe2ef81-6f9d-437c-9ec5-a745aa255bde"
      },
      "execution_count": 12,
      "outputs": [
        {
          "output_type": "stream",
          "name": "stdout",
          "text": [
            "<class 'pandas.core.frame.DataFrame'>\n",
            "RangeIndex: 35064 entries, 0 to 35063\n",
            "Data columns (total 18 columns):\n",
            " #   Column   Non-Null Count  Dtype  \n",
            "---  ------   --------------  -----  \n",
            " 0   No       35064 non-null  int64  \n",
            " 1   year     35064 non-null  int64  \n",
            " 2   month    35064 non-null  int64  \n",
            " 3   day      35064 non-null  int64  \n",
            " 4   hour     35064 non-null  int64  \n",
            " 5   PM2.5    34436 non-null  float64\n",
            " 6   PM10     34624 non-null  float64\n",
            " 7   SO2      34618 non-null  float64\n",
            " 8   NO2      34372 non-null  float64\n",
            " 9   CO       33858 non-null  float64\n",
            " 10  O3       34558 non-null  float64\n",
            " 11  TEMP     35044 non-null  float64\n",
            " 12  PRES     35044 non-null  float64\n",
            " 13  DEWP     35044 non-null  float64\n",
            " 14  RAIN     35044 non-null  float64\n",
            " 15  wd       34986 non-null  object \n",
            " 16  WSPM     35050 non-null  float64\n",
            " 17  station  35064 non-null  object \n",
            "dtypes: float64(11), int64(5), object(2)\n",
            "memory usage: 4.8+ MB\n"
          ]
        }
      ]
    },
    {
      "cell_type": "markdown",
      "source": [
        "Assessing Data"
      ],
      "metadata": {
        "id": "njfPWYYQrDza"
      }
    },
    {
      "cell_type": "code",
      "source": [
        "# Data overview\n",
        "print(f\"Number of rows: {df.shape[0]}\")\n",
        "print(f\"Number of columns: {df.shape[1]}\")\n",
        "print(\"\\nSummary Statistics:\")\n",
        "print(df.describe())"
      ],
      "metadata": {
        "colab": {
          "base_uri": "https://localhost:8080/"
        },
        "id": "1GxgTSjarJc5",
        "outputId": "d656a5c7-49b3-45ce-b1b8-745c2067692a"
      },
      "execution_count": 13,
      "outputs": [
        {
          "output_type": "stream",
          "name": "stdout",
          "text": [
            "Number of rows: 35064\n",
            "Number of columns: 18\n",
            "\n",
            "Summary Statistics:\n",
            "                 No          year         month           day          hour  \\\n",
            "count  35064.000000  35064.000000  35064.000000  35064.000000  35064.000000   \n",
            "mean   17532.500000   2014.662560      6.522930     15.729637     11.500000   \n",
            "std    10122.249256      1.177213      3.448752      8.800218      6.922285   \n",
            "min        1.000000   2013.000000      1.000000      1.000000      0.000000   \n",
            "25%     8766.750000   2014.000000      4.000000      8.000000      5.750000   \n",
            "50%    17532.500000   2015.000000      7.000000     16.000000     11.500000   \n",
            "75%    26298.250000   2016.000000     10.000000     23.000000     17.250000   \n",
            "max    35064.000000   2017.000000     12.000000     31.000000     23.000000   \n",
            "\n",
            "              PM2.5          PM10           SO2           NO2            CO  \\\n",
            "count  34436.000000  34624.000000  34618.000000  34372.000000  33858.000000   \n",
            "mean      84.838483    108.991096     18.689242     58.097172   1324.350198   \n",
            "std       86.225344     95.341177     24.280665     36.297740   1245.166124   \n",
            "min        2.000000      2.000000      0.571200      2.000000    100.000000   \n",
            "25%       22.000000     38.000000      3.000000     29.000000    500.000000   \n",
            "50%       59.000000     85.000000      9.000000     51.000000    900.000000   \n",
            "75%      116.000000    149.000000     23.000000     80.000000   1600.000000   \n",
            "max      844.000000    995.000000    257.000000    273.000000  10000.000000   \n",
            "\n",
            "                 O3          TEMP          PRES          DEWP          RAIN  \\\n",
            "count  34558.000000  35044.000000  35044.000000  35044.000000  35044.000000   \n",
            "mean      58.534682     13.671490   1012.547419      2.447535      0.064020   \n",
            "std       58.401448     11.458418     10.266059     13.810696      0.786282   \n",
            "min        0.214200    -16.800000    987.100000    -35.300000      0.000000   \n",
            "25%       10.000000      3.100000   1004.000000     -8.800000      0.000000   \n",
            "50%       45.000000     14.600000   1012.200000      3.000000      0.000000   \n",
            "75%       84.000000     23.500000   1020.900000     15.000000      0.000000   \n",
            "max      390.000000     41.100000   1042.000000     28.800000     46.400000   \n",
            "\n",
            "               WSPM  \n",
            "count  35050.000000  \n",
            "mean       1.860785  \n",
            "std        1.280368  \n",
            "min        0.000000  \n",
            "25%        1.000000  \n",
            "50%        1.500000  \n",
            "75%        2.400000  \n",
            "max       10.500000  \n"
          ]
        }
      ]
    },
    {
      "cell_type": "code",
      "source": [
        "# Check for missing values\n",
        "missing_values = df.isnull().sum()\n",
        "print(\"\\nMissing Values:\")\n",
        "print(missing_values)"
      ],
      "metadata": {
        "colab": {
          "base_uri": "https://localhost:8080/"
        },
        "id": "dOmCu9C9rOs7",
        "outputId": "7d4776cb-1153-40bf-d247-70d0121637fa"
      },
      "execution_count": 14,
      "outputs": [
        {
          "output_type": "stream",
          "name": "stdout",
          "text": [
            "\n",
            "Missing Values:\n",
            "No            0\n",
            "year          0\n",
            "month         0\n",
            "day           0\n",
            "hour          0\n",
            "PM2.5       628\n",
            "PM10        440\n",
            "SO2         446\n",
            "NO2         692\n",
            "CO         1206\n",
            "O3          506\n",
            "TEMP         20\n",
            "PRES         20\n",
            "DEWP         20\n",
            "RAIN         20\n",
            "wd           78\n",
            "WSPM         14\n",
            "station       0\n",
            "dtype: int64\n"
          ]
        }
      ]
    },
    {
      "cell_type": "code",
      "source": [
        "# Data types\n",
        "print(\"\\nData Types:\")\n",
        "print(df.dtypes)"
      ],
      "metadata": {
        "colab": {
          "base_uri": "https://localhost:8080/"
        },
        "id": "9jnZEHaXrVaM",
        "outputId": "6f0de58c-6cb4-4e57-9e88-14d694fb2ffe"
      },
      "execution_count": 15,
      "outputs": [
        {
          "output_type": "stream",
          "name": "stdout",
          "text": [
            "\n",
            "Data Types:\n",
            "No           int64\n",
            "year         int64\n",
            "month        int64\n",
            "day          int64\n",
            "hour         int64\n",
            "PM2.5      float64\n",
            "PM10       float64\n",
            "SO2        float64\n",
            "NO2        float64\n",
            "CO         float64\n",
            "O3         float64\n",
            "TEMP       float64\n",
            "PRES       float64\n",
            "DEWP       float64\n",
            "RAIN       float64\n",
            "wd          object\n",
            "WSPM       float64\n",
            "station     object\n",
            "dtype: object\n"
          ]
        }
      ]
    },
    {
      "cell_type": "markdown",
      "source": [
        "Cleaning Data"
      ],
      "metadata": {
        "id": "gq8m2lMevmR1"
      }
    },
    {
      "cell_type": "code",
      "source": [
        "df.dropna(inplace=True)"
      ],
      "metadata": {
        "id": "HkjFggA-ri8S"
      },
      "execution_count": 16,
      "outputs": []
    },
    {
      "cell_type": "code",
      "source": [
        "#overview of Dataset\n",
        "def dataoverview(df, message):\n",
        "    print(f'{message}:\\n')\n",
        "    print(\"Rows:\", df.shape[0])\n",
        "    print(\"\\n NUmber of features:\", df.shape[1])\n",
        "    print(\"\\n Features:\")\n",
        "    print(df.columns.tolist())\n",
        "    print(\"\\n Missing Values:\", df.isna().sum().values.sum())\n",
        "    print(\"\\n Unique values:\")\n",
        "    print(df.nunique())\n",
        "\n",
        "dataoverview(df,'Overview of the Dataset')"
      ],
      "metadata": {
        "colab": {
          "base_uri": "https://localhost:8080/"
        },
        "id": "QIZ1eH5wrmB_",
        "outputId": "fde544ab-081b-4d1f-d65a-c0b8a65e4cf6"
      },
      "execution_count": 17,
      "outputs": [
        {
          "output_type": "stream",
          "name": "stdout",
          "text": [
            "Overview of the Dataset:\n",
            "\n",
            "Rows: 33114\n",
            "\n",
            " NUmber of features: 18\n",
            "\n",
            " Features:\n",
            "['No', 'year', 'month', 'day', 'hour', 'PM2.5', 'PM10', 'SO2', 'NO2', 'CO', 'O3', 'TEMP', 'PRES', 'DEWP', 'RAIN', 'wd', 'WSPM', 'station']\n",
            "\n",
            " Missing Values: 0\n",
            "\n",
            " Unique values:\n",
            "No         33114\n",
            "year           5\n",
            "month         12\n",
            "day           31\n",
            "hour          24\n",
            "PM2.5        553\n",
            "PM10         638\n",
            "SO2          206\n",
            "NO2          526\n",
            "CO           115\n",
            "O3           582\n",
            "TEMP         922\n",
            "PRES         591\n",
            "DEWP         615\n",
            "RAIN         119\n",
            "wd            16\n",
            "WSPM         101\n",
            "station        1\n",
            "dtype: int64\n"
          ]
        }
      ]
    },
    {
      "cell_type": "markdown",
      "source": [
        "**Exploratory Data Analysis (EDA)**"
      ],
      "metadata": {
        "id": "7S8LMJnFrwLM"
      }
    },
    {
      "cell_type": "code",
      "source": [
        "# Kolom-kolom yang mengandung data polutan udara\n",
        "pollutants = ['PM2.5', 'PM10', 'SO2', 'NO2', 'CO', 'O3']\n",
        "\n",
        "# Mencari nilai yang paling umum untuk setiap polutan\n",
        "most_common_pollutants = {}\n",
        "for pollutant in pollutants:\n",
        "    most_common_pollutant = df[pollutant].mode().values[0]\n",
        "    most_common_pollutants[pollutant] = most_common_pollutant\n",
        "\n",
        "# Menampilkan polutan udara paling umum dalam dataset\n",
        "print(\"Polutan Udara Paling Umum:\")\n",
        "for pollutant, value in most_common_pollutants.items():\n",
        "    print(f\"{pollutant}: {value}\")"
      ],
      "metadata": {
        "colab": {
          "base_uri": "https://localhost:8080/"
        },
        "id": "wdIOeQLYr31m",
        "outputId": "bf5dbe08-a9a9-4567-f94a-e5bc28ad6387"
      },
      "execution_count": 18,
      "outputs": [
        {
          "output_type": "stream",
          "name": "stdout",
          "text": [
            "Polutan Udara Paling Umum:\n",
            "PM2.5: 3.0\n",
            "PM10: 18.0\n",
            "SO2: 2.0\n",
            "NO2: 26.0\n",
            "CO: 300.0\n",
            "O3: 2.0\n"
          ]
        }
      ]
    },
    {
      "cell_type": "code",
      "source": [
        "# Kolom-kolom yang mengandung data polutan udara\n",
        "pollutants = ['PM2.5', 'PM10', 'SO2', 'NO2', 'CO', 'O3']\n",
        "\n",
        "# Mencari frekuensi kemunculan masing-masing polutan\n",
        "pollutant_counts = {}\n",
        "for pollutant in pollutants:\n",
        "    count = df[pollutant].mode().values[0]\n",
        "    pollutant_counts[pollutant] = count\n",
        "\n",
        "# Menentukan polutan udara yang paling umum\n",
        "most_common_pollutant = max(pollutant_counts, key=pollutant_counts.get)\n",
        "\n",
        "print(f\"Polutan Udara Paling Umum dalam Dataset adalah: {most_common_pollutant}\")"
      ],
      "metadata": {
        "colab": {
          "base_uri": "https://localhost:8080/"
        },
        "id": "rdGM9xOjr7xY",
        "outputId": "3d85225e-cbe1-4c13-8c07-c532f2783018"
      },
      "execution_count": 19,
      "outputs": [
        {
          "output_type": "stream",
          "name": "stdout",
          "text": [
            "Polutan Udara Paling Umum dalam Dataset adalah: CO\n"
          ]
        }
      ]
    },
    {
      "cell_type": "markdown",
      "source": [
        "**Visualization & Explanatory Analysis**"
      ],
      "metadata": {
        "id": "rNHnl_dztyVW"
      }
    },
    {
      "cell_type": "code",
      "source": [
        "# Kolom-kolom yang mengandung data polutan udara\n",
        "pollutants = ['PM2.5', 'PM10', 'SO2', 'NO2', 'CO', 'O3']\n",
        "\n",
        "# Mencari frekuensi kemunculan masing-masing polutan\n",
        "pollutant_counts = df[pollutants].mode().iloc[0]\n",
        "\n",
        "# Membuat diagram batang untuk polutan yang paling umum\n",
        "plt.figure(figsize=(10, 6))\n",
        "pollutant_counts.plot(kind='bar', color='gold')\n",
        "plt.title('Polutan Udara Paling Umum dalam Dataset')\n",
        "plt.xlabel('Polutan Udara')\n",
        "plt.ylabel('Frekuensi Kemunculan')\n",
        "plt.xticks(rotation=45)\n",
        "plt.show()"
      ],
      "metadata": {
        "colab": {
          "base_uri": "https://localhost:8080/",
          "height": 590
        },
        "id": "B9LW8XatuBU4",
        "outputId": "3d28ccfa-f443-42f9-fff5-c8a91e0a40b9"
      },
      "execution_count": 20,
      "outputs": [
        {
          "output_type": "display_data",
          "data": {
            "text/plain": [
              "<Figure size 1000x600 with 1 Axes>"
            ],
            "image/png": "[encoded data removed]"
          },
          "metadata": {}
        }
      ]
    },
    {
      "cell_type": "code",
      "source": [
        "# Agregasi data tahunan\n",
        "annual_data = df.groupby('year').agg({'PM2.5': 'mean', 'PM10': 'mean', 'SO2': 'mean', 'NO2': 'mean', 'CO': 'mean', 'O3': 'mean'})\n",
        "\n",
        "# Visualisasi data tahunan\n",
        "plt.figure(figsize=(12, 6))\n",
        "for column in annual_data.columns:\n",
        "    plt.plot(annual_data.index, annual_data[column], label=column)\n",
        "\n",
        "plt.title('Variasi Tahunan Kualitas Udara')\n",
        "plt.xlabel('Tahun')\n",
        "plt.ylabel('Nilai Rata-Rata')\n",
        "plt.legend()\n",
        "plt.show()"
      ],
      "metadata": {
        "colab": {
          "base_uri": "https://localhost:8080/",
          "height": 564
        },
        "id": "umRl_wPzfl-c",
        "outputId": "82dabb05-15c8-4e03-b733-8f1698770a1f"
      },
      "execution_count": 21,
      "outputs": [
        {
          "output_type": "display_data",
          "data": {
            "text/plain": [
              "<Figure size 1200x600 with 1 Axes>"
            ],
            "image/png": "[encoded data removed]"
          },
          "metadata": {}
        }
      ]
    },
    {
      "cell_type": "markdown",
      "source": [],
      "metadata": {
        "id": "04O2Vz1E0nIL"
      }
    },
    {
      "cell_type": "markdown",
      "source": [
        "**Conclusion**"
      ],
      "metadata": {
        "id": "ybMwdKhA981s"
      }
    },
    {
      "cell_type": "markdown",
      "source": [
        "* Polutan udara yang paling umum adalah CO\n",
        "* CO menempati posisi paling tinggi polutan dengan kualitas yang semakin meningkat hingga pada tahun 2017 menempati posisi tertinggi."
      ],
      "metadata": {
        "id": "wgKb_NIx9_7S"
      }
    },
    {
      "cell_type": "code",
      "source": [
        "!pip install streamlit"
      ],
      "metadata": {
        "colab": {
          "base_uri": "https://localhost:8080/"
        },
        "id": "FSpOGCzflX3t",
        "outputId": "daa8b618-d823-4cae-b7ac-ddaeb2deae25"
      },
      "execution_count": 22,
      "outputs": [
        {
          "output_type": "stream",
          "name": "stdout",
          "text": [
            "Requirement already satisfied: streamlit in /usr/local/lib/python3.10/dist-packages (1.31.1)\n",
            "Requirement already satisfied: altair<6,>=4.0 in /usr/local/lib/python3.10/dist-packages (from streamlit) (4.2.2)\n",
            "Requirement already satisfied: blinker<2,>=1.0.0 in /usr/lib/python3/dist-packages (from streamlit) (1.4)\n",
            "Requirement already satisfied: cachetools<6,>=4.0 in /usr/local/lib/python3.10/dist-packages (from streamlit) (5.3.3)\n",
            "Requirement already satisfied: click<9,>=7.0 in /usr/local/lib/python3.10/dist-packages (from streamlit) (8.1.7)\n",
            "Requirement already satisfied: importlib-metadata<8,>=1.4 in /usr/local/lib/python3.10/dist-packages (from streamlit) (7.0.1)\n",
            "Requirement already satisfied: numpy<2,>=1.19.3 in /usr/local/lib/python3.10/dist-packages (from streamlit) (1.25.2)\n",
            "Requirement already satisfied: packaging<24,>=16.8 in /usr/local/lib/python3.10/dist-packages (from streamlit) (23.2)\n",
            "Requirement already satisfied: pandas<3,>=1.3.0 in /usr/local/lib/python3.10/dist-packages (from streamlit) (1.5.3)\n",
            "Requirement already satisfied: pillow<11,>=7.1.0 in /usr/local/lib/python3.10/dist-packages (from streamlit) (9.4.0)\n",
            "Requirement already satisfied: protobuf<5,>=3.20 in /usr/local/lib/python3.10/dist-packages (from streamlit) (3.20.3)\n",
            "Requirement already satisfied: pyarrow>=7.0 in /usr/local/lib/python3.10/dist-packages (from streamlit) (14.0.2)\n",
            "Requirement already satisfied: python-dateutil<3,>=2.7.3 in /usr/local/lib/python3.10/dist-packages (from streamlit) (2.8.2)\n",
            "Requirement already satisfied: requests<3,>=2.27 in /usr/local/lib/python3.10/dist-packages (from streamlit) (2.31.0)\n",
            "Requirement already satisfied: rich<14,>=10.14.0 in /usr/local/lib/python3.10/dist-packages (from streamlit) (13.7.1)\n",
            "Requirement already satisfied: tenacity<9,>=8.1.0 in /usr/local/lib/python3.10/dist-packages (from streamlit) (8.2.3)\n",
            "Requirement already satisfied: toml<2,>=0.10.1 in /usr/local/lib/python3.10/dist-packages (from streamlit) (0.10.2)\n",
            "Requirement already satisfied: typing-extensions<5,>=4.3.0 in /usr/local/lib/python3.10/dist-packages (from streamlit) (4.10.0)\n",
            "Requirement already satisfied: tzlocal<6,>=1.1 in /usr/local/lib/python3.10/dist-packages (from streamlit) (5.2)\n",
            "Requirement already satisfied: validators<1,>=0.2 in /usr/local/lib/python3.10/dist-packages (from streamlit) (0.22.0)\n",
            "Requirement already satisfied: gitpython!=3.1.19,<4,>=3.0.7 in /usr/local/lib/python3.10/dist-packages (from streamlit) (3.1.42)\n",
            "Requirement already satisfied: pydeck<1,>=0.8.0b4 in /usr/local/lib/python3.10/dist-packages (from streamlit) (0.8.1b0)\n",
            "Requirement already satisfied: tornado<7,>=6.0.3 in /usr/local/lib/python3.10/dist-packages (from streamlit) (6.3.2)\n",
            "Requirement already satisfied: watchdog>=2.1.5 in /usr/local/lib/python3.10/dist-packages (from streamlit) (4.0.0)\n",
            "Requirement already satisfied: entrypoints in /usr/local/lib/python3.10/dist-packages (from altair<6,>=4.0->streamlit) (0.4)\n",
            "Requirement already satisfied: jinja2 in /usr/local/lib/python3.10/dist-packages (from altair<6,>=4.0->streamlit) (3.1.3)\n",
            "Requirement already satisfied: jsonschema>=3.0 in /usr/local/lib/python3.10/dist-packages (from altair<6,>=4.0->streamlit) (4.19.2)\n",
            "Requirement already satisfied: toolz in /usr/local/lib/python3.10/dist-packages (from altair<6,>=4.0->streamlit) (0.12.1)\n",
            "Requirement already satisfied: gitdb<5,>=4.0.1 in /usr/local/lib/python3.10/dist-packages (from gitpython!=3.1.19,<4,>=3.0.7->streamlit) (4.0.11)\n",
            "Requirement already satisfied: zipp>=0.5 in /usr/local/lib/python3.10/dist-packages (from importlib-metadata<8,>=1.4->streamlit) (3.17.0)\n",
            "Requirement already satisfied: pytz>=2020.1 in /usr/local/lib/python3.10/dist-packages (from pandas<3,>=1.3.0->streamlit) (2023.4)\n",
            "Requirement already satisfied: six>=1.5 in /usr/local/lib/python3.10/dist-packages (from python-dateutil<3,>=2.7.3->streamlit) (1.16.0)\n",
            "Requirement already satisfied: charset-normalizer<4,>=2 in /usr/local/lib/python3.10/dist-packages (from requests<3,>=2.27->streamlit) (3.3.2)\n",
            "Requirement already satisfied: idna<4,>=2.5 in /usr/local/lib/python3.10/dist-packages (from requests<3,>=2.27->streamlit) (3.6)\n",
            "Requirement already satisfied: urllib3<3,>=1.21.1 in /usr/local/lib/python3.10/dist-packages (from requests<3,>=2.27->streamlit) (2.0.7)\n",
            "Requirement already satisfied: certifi>=2017.4.17 in /usr/local/lib/python3.10/dist-packages (from requests<3,>=2.27->streamlit) (2024.2.2)\n",
            "Requirement already satisfied: markdown-it-py>=2.2.0 in /usr/local/lib/python3.10/dist-packages (from rich<14,>=10.14.0->streamlit) (3.0.0)\n",
            "Requirement already satisfied: pygments<3.0.0,>=2.13.0 in /usr/local/lib/python3.10/dist-packages (from rich<14,>=10.14.0->streamlit) (2.16.1)\n",
            "Requirement already satisfied: smmap<6,>=3.0.1 in /usr/local/lib/python3.10/dist-packages (from gitdb<5,>=4.0.1->gitpython!=3.1.19,<4,>=3.0.7->streamlit) (5.0.1)\n",
            "Requirement already satisfied: MarkupSafe>=2.0 in /usr/local/lib/python3.10/dist-packages (from jinja2->altair<6,>=4.0->streamlit) (2.1.5)\n",
            "Requirement already satisfied: attrs>=22.2.0 in /usr/local/lib/python3.10/dist-packages (from jsonschema>=3.0->altair<6,>=4.0->streamlit) (23.2.0)\n",
            "Requirement already satisfied: jsonschema-specifications>=2023.03.6 in /usr/local/lib/python3.10/dist-packages (from jsonschema>=3.0->altair<6,>=4.0->streamlit) (2023.12.1)\n",
            "Requirement already satisfied: referencing>=0.28.4 in /usr/local/lib/python3.10/dist-packages (from jsonschema>=3.0->altair<6,>=4.0->streamlit) (0.33.0)\n",
            "Requirement already satisfied: rpds-py>=0.7.1 in /usr/local/lib/python3.10/dist-packages (from jsonschema>=3.0->altair<6,>=4.0->streamlit) (0.18.0)\n",
            "Requirement already satisfied: mdurl~=0.1 in /usr/local/lib/python3.10/dist-packages (from markdown-it-py>=2.2.0->rich<14,>=10.14.0->streamlit) (0.1.2)\n"
          ]
        }
      ]
    },
    {
      "cell_type": "code",
      "source": [
        "!npm install localtunnel"
      ],
      "metadata": {
        "colab": {
          "base_uri": "https://localhost:8080/"
        },
        "id": "ponvUjX3ldeT",
        "outputId": "26069b75-0243-46db-f17d-0e5d681f2c9d"
      },
      "execution_count": 23,
      "outputs": [
        {
          "output_type": "stream",
          "name": "stdout",
          "text": [
            "\u001b[K\u001b[?25h\u001b[37;40mnpm\u001b[0m \u001b[0m\u001b[30;43mWARN\u001b[0m \u001b[0m\u001b[35msaveError\u001b[0m ENOENT: no such file or directory, open '/content/package.json'\n",
            "\u001b[0m\u001b[37;40mnpm\u001b[0m \u001b[0m\u001b[30;43mWARN\u001b[0m \u001b[0m\u001b[35menoent\u001b[0m ENOENT: no such file or directory, open '/content/package.json'\n",
            "\u001b[0m\u001b[37;40mnpm\u001b[0m \u001b[0m\u001b[30;43mWARN\u001b[0m\u001b[35m\u001b[0m content No description\n",
            "\u001b[0m\u001b[37;40mnpm\u001b[0m \u001b[0m\u001b[30;43mWARN\u001b[0m\u001b[35m\u001b[0m content No repository field.\n",
            "\u001b[0m\u001b[37;40mnpm\u001b[0m \u001b[0m\u001b[30;43mWARN\u001b[0m\u001b[35m\u001b[0m content No README data\n",
            "\u001b[0m\u001b[37;40mnpm\u001b[0m \u001b[0m\u001b[30;43mWARN\u001b[0m\u001b[35m\u001b[0m content No license field.\n",
            "\u001b[0m\n",
            "+ localtunnel@2.0.2\n",
            "updated 1 package and audited 36 packages in 0.792s\n",
            "\n",
            "3 packages are looking for funding\n",
            "  run `npm fund` for details\n",
            "\n",
            "found 2 \u001b[93mmoderate\u001b[0m severity vulnerabilities\n",
            "  run `npm audit fix` to fix them, or `npm audit` for details\n",
            "\u001b[K\u001b[?25h"
          ]
        }
      ]
    },
    {
      "cell_type": "code",
      "source": [
        "import urllib\n",
        "print(\"Password/Enpoint IP for localtunnel is:\", urllib.request.urlopen('https://ipv4.icanhazip.com').read().decode('utf8').strip(\"\\n\"))"
      ],
      "metadata": {
        "colab": {
          "base_uri": "https://localhost:8080/"
        },
        "id": "FTj-F3xVlhi9",
        "outputId": "da315063-8594-402e-8e7b-bdedaacd0817"
      },
      "execution_count": 28,
      "outputs": [
        {
          "output_type": "stream",
          "name": "stdout",
          "text": [
            "Password/Enpoint IP for localtunnel is: 34.73.172.220\n"
          ]
        }
      ]
    },
    {
      "cell_type": "code",
      "source": [
        "!streamlit run /content/copy_of_steamlit_david_satriana.py &>/content/logs.txt &"
      ],
      "metadata": {
        "id": "q6jTWvV3ljKj"
      },
      "execution_count": 34,
      "outputs": []
    },
    {
      "cell_type": "code",
      "source": [
        "!npx localtunnel --port 8501"
      ],
      "metadata": {
        "colab": {
          "base_uri": "https://localhost:8080/"
        },
        "id": "40puX5VCm0vi",
        "outputId": "80dff2b8-7ed1-467f-87dc-54c0dcc6aae2"
      },
      "execution_count": 35,
      "outputs": [
        {
          "output_type": "stream",
          "name": "stdout",
          "text": [
            "\u001b[K\u001b[?25hnpx: installed 22 in 2.197s\n",
            "your url is: https://silver-mice-drum.loca.lt\n"
          ]
        }
      ]
    },
    {
      "cell_type": "code",
      "source": [],
      "metadata": {
        "id": "zT0ejNucwqQN"
      },
      "execution_count": 26,
      "outputs": []
    }
  ]
}